{
 "cells": [
  {
   "cell_type": "markdown",
   "id": "7d8e9827-67c7-4df3-a33f-6b39b242b708",
   "metadata": {
    "deletable": false,
    "editable": false,
    "nbgrader": {
     "cell_type": "markdown",
     "checksum": "db15d686ea9ac6920835a9486010698f",
     "grade": false,
     "grade_id": "cell-50142891b18d9a68",
     "locked": true,
     "schema_version": 3,
     "solution": false,
     "task": false
    },
    "slideshow": {
     "slide_type": "slide"
    },
    "tags": []
   },
   "source": [
    "<img src=\"seminarlogo.png\" class=\"center\" style=\"width:100%;\"> </img>"
   ]
  },
  {
   "cell_type": "markdown",
   "id": "0c50e015-a14b-4bcf-8796-45f88d5b1c93",
   "metadata": {
    "deletable": false,
    "editable": false,
    "nbgrader": {
     "cell_type": "markdown",
     "checksum": "cea23fa5465685db84b4e7ca1445320e",
     "grade": false,
     "grade_id": "cell-f8f56a83dc8fea6c",
     "locked": true,
     "schema_version": 3,
     "solution": false,
     "task": false
    },
    "tags": []
   },
   "source": [
    "# <span style=\"color:navy\"> **Seminar Project:** </span> <span style=\"color:green\"> **MRSP**</span>"
   ]
  },
  {
   "cell_type": "markdown",
   "id": "7ee3ef06-b97e-4b31-9bdc-d5697b42b9a2",
   "metadata": {
    "deletable": false,
    "editable": false,
    "nbgrader": {
     "cell_type": "markdown",
     "checksum": "ac4f343b8c6adf8511feffebaf35d72b",
     "grade": false,
     "grade_id": "cell-b6c65d68479e9e79",
     "locked": true,
     "schema_version": 3,
     "solution": false,
     "task": false
    },
    "slideshow": {
     "slide_type": "-"
    },
    "tags": []
   },
   "source": [
    "<div style=\"background-color:#ebeff7; padding:1.25em; border-radius:1em; border: 1px solid black\">\n",
    "\n",
    "### <span style = \"color: navy\"> **General Procedure:** </span>\n",
    "1. The seminar project is group (team) based assignment with each group consists of Five (05) members\n",
    "2. Each group is assigned same Seminar project, hence, it is a sort of competition among the groups and the grades are based on the best performance of the group. The points for the project assignment will be distribute among the group member on different weights depends on the indivisual performance.\n",
    "3. There is one group coordinator, who is reponsible for the coordination among the members and responsible for report and results along with establishing the repository (such as GIT)\n",
    "4. The duration of the seminar project is from **01.06.2024** to **31.07.2024**, with a mid-term meeting with each group from **01.07.2024** to **06.07.2024** (*Book an appointment at your convience*)\n",
    "5. There will be a report at the end of project. The submission date for the report is **31.07.2024**\n",
    "6. The report and results presentation will held from **01.08.2024** to **15.08.2024** (The specific date for each group will be selected after mutual consensus)\n",
    "\n",
    "<span style=\"color:blue\"> Note: Further Instructions and procedures may be updated from time to time</span>\n",
    "    \n",
    "</div>"
   ]
  },
  {
   "cell_type": "markdown",
   "id": "a78ab026-535c-405a-873f-8eea172670db",
   "metadata": {
    "deletable": false,
    "editable": false,
    "nbgrader": {
     "cell_type": "markdown",
     "checksum": "3e5beb5d028f9ae37e6c425715cb2407",
     "grade": false,
     "grade_id": "cell-3728701544a83df4",
     "locked": true,
     "schema_version": 3,
     "solution": false,
     "task": false
    },
    "slideshow": {
     "slide_type": "slide"
    },
    "tags": []
   },
   "source": [
    "### <span style = \"color: navy\"> **Introduction:** </span>\n",
    "The main aim of the seminar project is to find out the perceptual similarities between different audio stimuli by calculating an objective measure **Perceptual Loss Function** and a subjective measure using **MUSHRA** listening experiment  \n",
    "The project is divided into five major tasks and for each part there is one student responsible for it. The Tasks are:\n",
    "#### <span style = \"color: navy\"> 1. Preparing audio data </span>\n",
    "- Prepare five dry audio files with $24$ bit rate and sample rate of either $44100$ Hz or $48000$ Hz. These audios should have distinct spectral charecteristics from each other, which means select the five differnt audio file such as (e.g.), i) Drum ii) Speach iii) Piano Music iv) Mix Instrumental Music v) Trumpet. (These are just examples, you are free to choose the audio file). But Important point is these audios should be dry (without any sound effects, such as reverberation etc.)\n",
    "- From these five audios generate three versions of each with i) Small Office Environment ii) Opera Hall iii) Reverb hall with reverberation time at least 1.5 sec.\n",
    "- In this way you have $20$ audio files in total and $5$ groups and each group contains $4$ version of single audio\n",
    "#### <span style = \"color: navy\"> 2. **Perceptual Loss** Objective Measure (five groups) </span>\n",
    "- You need to use the GIT repository for this purpose, which is available at (https://github.com/TUIlmenauAMS/PsychoacousticLoss)\n",
    "#### <span style = \"color: navy\"> 3. MUSHRA: Subjective measures: </span>\n",
    "- Prepare the software for the listening experiment using **MUSHRA** test. The GIT repositor is available at (https://github.com/audiolabs/webMUSHRA)\n",
    "#### <span style = \"color: navy\"> 4. Listening experiment management </span>\n",
    "- Conduct a listening experiment with the DSM Course students which will be availbe during first and second week of the July. You have to coordinate with the students.\n",
    "- Make a coordination with the listening experiment room responsible people (This will be done including us)\n",
    "#### <span style = \"color: navy\"> 5. Report and Coordination </span>\n",
    "- The group coordinator will be responsible for the coordination and final report submission\n",
    "- The group coordinator will communicate with the Listening Experiment Facility Management\n",
    "- Other corodination\n",
    "\n",
    "#### <span style=\"color:blue\"> Further details will be discussed with the group coordinators and the they are responsible for group coordination</span>"
   ]
  },
  {
   "cell_type": "markdown",
   "id": "02c732dd-751d-4e75-9801-dc9cbc89a373",
   "metadata": {
    "deletable": false,
    "editable": false,
    "nbgrader": {
     "cell_type": "markdown",
     "checksum": "795fddbbf78e9646d26e1d08fa6f6cbc",
     "grade": false,
     "grade_id": "cell-74484533432f5da7",
     "locked": true,
     "schema_version": 3,
     "solution": false,
     "task": false
    },
    "slideshow": {
     "slide_type": "slide"
    },
    "tags": []
   },
   "source": [
    "<div style=\"background-color:#ebeff7; padding:1.25em; border-radius:1em; border: 1px solid black\">\n",
    "\n",
    "### <span style=\"color:navy; font-size: 1.25em\"> **TASK 01:** Preparing audio data </span>\n",
    "#### <span style=\"color:blue\"> Below Enter Matriculation Number of Responsible Member for this Task </span>\n",
    "\n",
    "</div>"
   ]
  },
  {
   "cell_type": "code",
   "execution_count": null,
   "id": "43c3d7c7-4682-4ba3-b107-5242a0c8a8a5",
   "metadata": {
    "tags": []
   },
   "outputs": [],
   "source": [
    "MatriculationNumber = '70614';"
   ]
  },
  {
   "cell_type": "markdown",
   "id": "d525ded0-8652-431b-b5a9-8d70a2deaa78",
   "metadata": {
    "slideshow": {
     "slide_type": "-"
    },
    "tags": []
   },
   "source": [
    "### <span style=\"color:navy; font-size: 1.25em\"> **Description:**</span>\n",
    "Place to describe the task, procedure, results etc. (delete this line when writting)"
   ]
  },
  {
   "cell_type": "code",
   "execution_count": null,
   "id": "d923eb7b-3166-43be-b548-c508b84e74b2",
   "metadata": {
    "deletable": false,
    "nbgrader": {
     "cell_type": "code",
     "checksum": "8d47826208e64049dc43b5b212c9fd01",
     "grade": true,
     "grade_id": "cell-e5b0ba0210863b90",
     "locked": false,
     "points": 0,
     "schema_version": 3,
     "solution": true,
     "task": false
    },
    "slideshow": {
     "slide_type": "-"
    },
    "tags": []
   },
   "outputs": [],
   "source": [
    "'''\n",
    "The Seminar Project on Multidimensional Audio Signal Processing (MRSP) aims to explore perceptual similarities between different audio stimuli using both objective and subjective measures. This report details Task 01 of the project, which involves preparing distinct dry audio files and generating versions of these files with various reverberation effects to simulate different acoustic environments.\n",
    "Task Overview\n",
    "Task 01 required the preparation of a total of 20 audio files, comprising five original dry audio files and three versions of each with simulated reverberation effects. Each audio file was meticulously selected to exhibit distinct spectral characteristics, ensuring a diverse set of stimuli for subsequent perceptual similarity evaluations.\n",
    "Procedure\n",
    "1.Selection of Dry Audio Files:\n",
    "Five distinct audio types were chosen based on their spectral diversity: Drum, Speech, Piano Music, Mixed Instrumental Music, and Trumpet. These selections aimed to cover a broad spectrum of sound profiles to enhance the variability in perceptual testing.\n",
    "2.Processing Audio Files:\n",
    "All audio files underwent processing to standardize their specifications. Initially, each file was adjusted to 24-bit resolution and a sample rate of 48000 Hz using a script designed for this purpose.\n",
    "with this python code\n",
    "'''\n",
    "import os\n",
    "import librosa\n",
    "import soundfile as sf\n",
    "\n",
    "# Define input and output directories\n",
    "currdir = os.getcwd()\n",
    "audiodir = currdir + '/all_audio'\n",
    "input_dir = audiodir + '/raw_audio'\n",
    "output_dir = audiodir + '/dry_audio'\n",
    "os.makedirs(output_dir, exist_ok=True)\n",
    "\n",
    "# Target sample rate and bit depth\n",
    "target_sr = 48000\n",
    "target_bit_depth = 'PCM_24'\n",
    "\n",
    "# List of audio files to process\n",
    "audio_files = ['drum.wav', 'speech.wav', 'piano.wav', 'mix_instrumental.wav', 'trumpet.wav']\n",
    "\n",
    "# Function to process audio files\n",
    "def process_audio(input_path, output_path, target_sr, target_bit_depth):\n",
    "    try:\n",
    "        # Check if input file exists\n",
    "        if not os.path.exists(input_path):\n",
    "            print(f\"Input file not found: {input_path}\")\n",
    "            return\n",
    "\n",
    "        # Load audio file\n",
    "        audio, sr = librosa.load(input_path, sr=None)\n",
    "\n",
    "        # Resample if necessary\n",
    "        if sr != target_sr:\n",
    "            audio = librosa.resample(audio, orig_sr=sr, target_sr=target_sr)\n",
    "\n",
    "        # Write to output file with target bit depth\n",
    "        sf.write(output_path, audio, target_sr, subtype=target_bit_depth)\n",
    "        print(f\"Processed {input_path} and saved to {output_path}\")\n",
    "    except Exception as e:\n",
    "        print(f\"Error processing {input_path}: {e}\")\n",
    "\n",
    "# Process each audio file\n",
    "for audio_file in audio_files:\n",
    "    input_path = os.path.join(input_dir, audio_file)\n",
    "    output_path = os.path.join(output_dir, audio_file.replace('.wav', '_Dry.wav'))\n",
    "    process_audio(input_path, output_path, target_sr, target_bit_depth)\n",
    "\n",
    "print(\"Audio processing complete.\")1\n",
    "\n",
    "'''\n",
    "3.\tApplying Reverberation Effects:\n",
    "After ensuring the audio files met the specified standards, reverberation effects were applied using a convolution technique with impulse responses (IRs). Three distinct IRs were utilized to simulate different environments: Small Office, Opera Hall, and Reverb Hall.\n",
    "with this python code\n",
    "'''\n",
    "import os\n",
    "import numpy as np\n",
    "import soundfile as sf\n",
    "import librosa\n",
    "import scipy.signal\n",
    "\n",
    "# Define IR file paths\n",
    "ir_small_office_path = audiodir + '/ir_audio/small_office_ir.wav'\n",
    "ir_opera_hall_path = audiodir + '/ir_audio/opera_hall_ir.wav'\n",
    "ir_reverb_hall_path = audiodir + '/ir_audio/reverb_hall_ir.wav'\n",
    "\n",
    "# Load IR files and convert to mono if they are stereo\n",
    "def load_ir(path):\n",
    "    ir, sr = sf.read(path)\n",
    "    if ir.ndim == 2:\n",
    "        ir = np.mean(ir, axis=1)  # Convert to mono by averaging channels\n",
    "    return ir, sr\n",
    "\n",
    "ir_small_office, ir_small_office_sr = load_ir(ir_small_office_path)\n",
    "ir_opera_hall, ir_opera_hall_sr = load_ir(ir_opera_hall_path)\n",
    "ir_reverb_hall, ir_reverb_hall_sr = load_ir(ir_reverb_hall_path)\n",
    "\n",
    "print(f\"Loaded IR small_office with sample rate: {ir_small_office_sr}, shape: {ir_small_office.shape}\")\n",
    "print(f\"Loaded IR opera_hall with sample rate: {ir_opera_hall_sr}, shape: {ir_opera_hall.shape}\")\n",
    "print(f\"Loaded IR reverb_hall with sample rate: {ir_reverb_hall_sr}, shape: {ir_reverb_hall.shape}\")\n",
    "\n",
    "def apply_reverb(audio, ir):\n",
    "    reverb_signal = scipy.signal.convolve(audio, ir, mode='full')[:len(audio)]\n",
    "    return reverb_signal / np.max(np.abs(reverb_signal))  # Normalize to avoid clipping\n",
    "\n",
    "input_dir = audiodir + '/dry_audio'\n",
    "output_dir = audiodir + '/reverb_audio'\n",
    "os.makedirs(output_dir, exist_ok=True)\n",
    "target_sr = 48000\n",
    "\n",
    "for file_name in os.listdir(input_dir):\n",
    "    if file_name.endswith('.wav'):\n",
    "        file_path = os.path.join(input_dir, file_name)\n",
    "        audio, sr = librosa.load(file_path, sr=None)\n",
    "\n",
    "        if sr != target_sr:\n",
    "            audio = librosa.resample(audio, orig_sr=sr, target_sr=target_sr)\n",
    "            sr = target_sr\n",
    "\n",
    "        output_path = os.path.join(output_dir, file_name.replace('.wav', '_Dry.wav'))\n",
    "        sf.write(output_path, audio, sr, subtype='PCM_24')\n",
    "\n",
    "        for reverb_type, ir in [('small_office', ir_small_office), ('opera_hall', ir_opera_hall), ('reverb_hall', ir_reverb_hall)]:\n",
    "            try:\n",
    "                reverb_audio = apply_reverb(audio, ir)\n",
    "                output_path = os.path.join(output_dir, file_name.replace('.wav', f'_{reverb_type}.wav'))\n",
    "                sf.write(output_path, reverb_audio, sr, subtype='PCM_24')\n",
    "            except ValueError as e:\n",
    "                print(f\"Error processing {file_name} with reverb type {reverb_type}: {e}\")\n",
    "\n",
    "print(\"Processing complete.\")\n",
    "'''\n",
    "4.Organizing the Audio Files:\n",
    "The final output consisted of 20 audio files organized into two main directories: dry_audios for original dry versions and Reverb for the reverberated versions. Each audio file was named appropriately to indicate its type and the specific reverberation effect applied.\n",
    "Summary\n",
    "Task 01 successfully prepared a comprehensive set of audio stimuli for the MRSP Seminar Project. This included five distinct dry audio files, each processed to meet standardized specifications, and three additional versions of each file featuring simulated reverberation effects. The utilization of convolution with impulse responses allowed for the realistic emulation of various acoustic environments, enhancing the diversity and perceptual relevance of the audio stimuli. These prepared files are now ready for subsequent objective and subjective evaluations to explore perceptual similarities among different audio stimuli.\n",
    "Conclusion\n",
    "Task 01 laid the groundwork for the MRSP Seminar Project by establishing a robust dataset of audio stimuli. The meticulous selection, processing, and application of reverberation effects ensured the creation of diverse and high-quality audio files suitable for detailed perceptual analyses. This report highlights the methodology employed, scripts utilized, and outcomes achieved, setting the stage for further investigations into perceptual loss functions and subjective listening experiments as part of the broader project objectives.\n",
    "'''"
   ]
  },
  {
   "cell_type": "markdown",
   "id": "2baaac44-d5fd-474f-8824-bbec1bb8d612",
   "metadata": {
    "deletable": false,
    "editable": false,
    "nbgrader": {
     "cell_type": "markdown",
     "checksum": "55a3d239c7d7eee3d7fe23dc31244e75",
     "grade": false,
     "grade_id": "cell-7fd52dbb3edebda4",
     "locked": true,
     "schema_version": 3,
     "solution": false,
     "task": false
    },
    "slideshow": {
     "slide_type": "slide"
    },
    "tags": []
   },
   "source": [
    "<div style=\"background-color:#ebeff7; padding:1.25em; border-radius:1em; border: 1px solid black\">\n",
    "\n",
    "### <span style=\"color:navy; font-size: 1.25em\"> **TASK 02:** Perceptual Loss: Objective Measures</span>\n",
    "#### <span style=\"color:blue\"> Below Enter Matriculation Number of Responsible Member for this Task </span>\n",
    "\n",
    "</div>"
   ]
  },
  {
   "cell_type": "code",
   "execution_count": null,
   "id": "3064a82a-8430-4987-9240-a44e5c0835a0",
   "metadata": {
    "tags": []
   },
   "outputs": [],
   "source": [
    "MatriculationNumber = '123456'"
   ]
  },
  {
   "cell_type": "markdown",
   "id": "b1fea479-6021-47d6-bc03-f17e2fb9aa55",
   "metadata": {
    "slideshow": {
     "slide_type": "-"
    }
   },
   "source": [
    "### <span style=\"color:navy; font-size: 1.25em\"> **Description:**</span>\n",
    "\n",
    "Place to describe the task, procedure, results etc. (delete this line when writting)"
   ]
  },
  {
   "cell_type": "code",
   "execution_count": null,
   "id": "cb89aa64-e977-4f18-a845-397b20da9204",
   "metadata": {
    "deletable": false,
    "nbgrader": {
     "cell_type": "code",
     "checksum": "c8a2bcf7678d495277fe092e381c52e3",
     "grade": true,
     "grade_id": "cell-adedb5c5625e1167",
     "locked": false,
     "points": 0,
     "schema_version": 3,
     "solution": true,
     "task": false
    },
    "slideshow": {
     "slide_type": "-"
    },
    "tags": []
   },
   "outputs": [],
   "source": [
    "# Place to write your codes etc.\n",
    "# YOUR CODE HERE\n"
   ]
  },
  {
   "cell_type": "markdown",
   "id": "6300f428-f001-48cb-ab95-97a50319ec1b",
   "metadata": {
    "deletable": false,
    "editable": false,
    "nbgrader": {
     "cell_type": "markdown",
     "checksum": "c81d33748bbeead2c3b4bd32a2dc7003",
     "grade": false,
     "grade_id": "cell-9b93d0f2e7e5b3f5",
     "locked": true,
     "schema_version": 3,
     "solution": false,
     "task": false
    },
    "slideshow": {
     "slide_type": "slide"
    },
    "tags": []
   },
   "source": [
    "<div style=\"background-color:#ebeff7; padding:1.25em; border-radius:1em; border: 1px solid black\">\n",
    "\n",
    "### <span style=\"color:navy; font-size: 1.25em\"> **TASK 03:** MUSHRA: Subjective Measures </span>\n",
    "#### <span style=\"color:blue\"> Below Enter Matriculation Number of Responsible Member for this Task </span>\n",
    "\n",
    "</div>"
   ]
  },
  {
   "cell_type": "code",
   "execution_count": null,
   "id": "8e19e220-8ef1-47f1-92ae-6aaeb7554f01",
   "metadata": {
    "tags": []
   },
   "outputs": [],
   "source": [
    "MatriculationNumber = '123456'"
   ]
  },
  {
   "cell_type": "markdown",
   "id": "1ad6ee04-ba56-458d-9939-e330050b0a20",
   "metadata": {
    "slideshow": {
     "slide_type": "-"
    }
   },
   "source": [
    "### <span style=\"color:navy; font-size: 1.25em\"> **Description:**</span>\n",
    "\n",
    "Place to describe the task, procedure, results etc. (delete this line when writting)"
   ]
  },
  {
   "cell_type": "code",
   "execution_count": null,
   "id": "be9eba04-0be7-4a39-8536-d728355d39d5",
   "metadata": {
    "deletable": false,
    "nbgrader": {
     "cell_type": "code",
     "checksum": "f5155bc4efb49ccb4578694ca85efd58",
     "grade": true,
     "grade_id": "cell-9553eb7f87fbe6c1",
     "locked": false,
     "points": 0,
     "schema_version": 3,
     "solution": true,
     "task": false
    },
    "slideshow": {
     "slide_type": "-"
    },
    "tags": []
   },
   "outputs": [],
   "source": [
    "# Place to write your codes etc.\n",
    "# YOUR CODE HERE\n"
   ]
  },
  {
   "cell_type": "markdown",
   "id": "32246777-dab5-43b4-8eea-0f024867c28d",
   "metadata": {
    "deletable": false,
    "editable": false,
    "nbgrader": {
     "cell_type": "markdown",
     "checksum": "f1b7dc07b18c51ca790b2044befc2cc0",
     "grade": false,
     "grade_id": "cell-6869d40d05f28234",
     "locked": true,
     "schema_version": 3,
     "solution": false,
     "task": false
    },
    "slideshow": {
     "slide_type": "slide"
    },
    "tags": []
   },
   "source": [
    "<div style=\"background-color:#ebeff7; padding:1.25em; border-radius:1em; border: 1px solid black\">\n",
    "    \n",
    "### <span style=\"color:navy; font-size: 1.25em\"> **TASK 04:** Listening experiment </span>\n",
    "#### <span style=\"color:blue\"> Below Enter Matriculation Number of Responsible Member for this Task </span>\n",
    "\n",
    "</div>"
   ]
  },
  {
   "cell_type": "code",
   "execution_count": null,
   "id": "08c9a2fa-860b-4661-b95c-a9f9827fe1bd",
   "metadata": {
    "tags": []
   },
   "outputs": [],
   "source": [
    "MatriculationNumber = '123456'"
   ]
  },
  {
   "cell_type": "markdown",
   "id": "117bfb2e-2668-4a3e-8efe-6375ad76577a",
   "metadata": {
    "slideshow": {
     "slide_type": "-"
    }
   },
   "source": [
    "### <span style=\"color:navy; font-size: 1.25em\"> **Description:**</span>\n",
    "\n",
    "Place to describe the task, procedure, results etc. (delete this line when writting)"
   ]
  },
  {
   "cell_type": "code",
   "execution_count": null,
   "id": "c4dbd48e-3ab3-4078-9df5-744d1d35f8cd",
   "metadata": {
    "deletable": false,
    "nbgrader": {
     "cell_type": "code",
     "checksum": "ca6f252f190a24449c73eddb32825d55",
     "grade": true,
     "grade_id": "cell-7b38c70185db569f",
     "locked": false,
     "points": 0,
     "schema_version": 3,
     "solution": true,
     "task": false
    },
    "slideshow": {
     "slide_type": "-"
    },
    "tags": []
   },
   "outputs": [],
   "source": [
    "# Place to write your codes etc.\n",
    "# YOUR CODE HERE"
   ]
  },
  {
   "cell_type": "markdown",
   "id": "66f1a2a2-a587-401c-94d9-86b224f30ae5",
   "metadata": {
    "deletable": false,
    "editable": false,
    "nbgrader": {
     "cell_type": "markdown",
     "checksum": "eb164a84ed89806175043ba9668f5da4",
     "grade": false,
     "grade_id": "cell-f84d96add8cf5a26",
     "locked": true,
     "schema_version": 3,
     "solution": false,
     "task": false
    },
    "slideshow": {
     "slide_type": "slide"
    },
    "tags": []
   },
   "source": [
    "<div style=\"background-color:#ebeff7; padding:1.25em; border-radius:1em; border: 1px solid black\">\n",
    "\n",
    "### <span style=\"color:navy; font-size: 1.25em\"> **TASK 05:** Report and Coordination </span>\n",
    "#### <span style=\"color:blue\"> Below Enter Matriculation Number of Responsible Member for this Task </span>\n",
    "\n",
    "</div>"
   ]
  },
  {
   "cell_type": "code",
   "execution_count": null,
   "id": "7027e387-6500-40d5-876d-1a14c2e6f94e",
   "metadata": {
    "tags": []
   },
   "outputs": [],
   "source": [
    "MatriculationNumber = '123456'"
   ]
  },
  {
   "cell_type": "markdown",
   "id": "e9bef0c1-1e4f-47ed-b024-cf49c1262103",
   "metadata": {
    "slideshow": {
     "slide_type": "-"
    }
   },
   "source": [
    "### <span style=\"color:navy; font-size: 1.25em\"> **Description:**</span>\n",
    "\n",
    "Place to describe the task, procedure, results etc. (delete this line when writting)"
   ]
  },
  {
   "cell_type": "code",
   "execution_count": null,
   "id": "cd55658e-2891-4862-b74c-64b0dbb17332",
   "metadata": {
    "deletable": false,
    "nbgrader": {
     "cell_type": "code",
     "checksum": "71f9e1706ff5a7a6c9f3b3e2f9ab8b50",
     "grade": true,
     "grade_id": "cell-e95c63aa7c29f490",
     "locked": false,
     "points": 0,
     "schema_version": 3,
     "solution": true,
     "task": false
    },
    "slideshow": {
     "slide_type": "-"
    },
    "tags": []
   },
   "outputs": [],
   "source": [
    "# Place to write your codes etc.\n",
    "# YOUR CODE HERE"
   ]
  },
  {
   "cell_type": "markdown",
   "id": "43da85af-347b-40b8-bf31-5a05bca167c4",
   "metadata": {
    "deletable": false,
    "editable": false,
    "nbgrader": {
     "cell_type": "markdown",
     "checksum": "4dc50680a95fdd1d5a311ed82e8fbb2a",
     "grade": false,
     "grade_id": "cell-c6e9ec1a38c4bda2",
     "locked": true,
     "schema_version": 3,
     "solution": false,
     "task": false
    },
    "slideshow": {
     "slide_type": "skip"
    },
    "tags": []
   },
   "source": [
    "### <span style=\"color:blue\"> END Report here </span>"
   ]
  }
 ],
 "metadata": {
  "kernelspec": {
   "display_name": "Python 3 (ipykernel)",
   "language": "python",
   "name": "python3"
  },
  "language_info": {
   "codemirror_mode": {
    "name": "ipython",
    "version": 3
   },
   "file_extension": ".py",
   "mimetype": "text/x-python",
   "name": "python",
   "nbconvert_exporter": "python",
   "pygments_lexer": "ipython3",
   "version": "3.10.10"
  },
  "widgets": {
   "application/vnd.jupyter.widget-state+json": {
    "state": {},
    "version_major": 2,
    "version_minor": 0
   }
  }
 },
 "nbformat": 4,
 "nbformat_minor": 5
}
